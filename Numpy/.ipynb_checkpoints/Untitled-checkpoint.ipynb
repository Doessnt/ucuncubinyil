{
 "cells": [
  {
   "cell_type": "code",
   "execution_count": 1,
   "id": "e850a77a",
   "metadata": {},
   "outputs": [],
   "source": [
    "import numpy as np\n"
   ]
  },
  {
   "cell_type": "code",
   "execution_count": 10,
   "id": "06942602",
   "metadata": {},
   "outputs": [
    {
     "name": "stdout",
     "output_type": "stream",
     "text": [
      "[[1 2 4]\n",
      " [3 4 5]]\n",
      "5\n",
      "2\n",
      "5\n"
     ]
    }
   ],
   "source": [
    "#2-D array\n",
    "array2D = np.array([[1,2,4],[3,4,5]])\n",
    "print(array2D)\n",
    "# for finding \n",
    "print(array2D[1][2])\n",
    "# size of array\n",
    "print(array2D.ndim)\n",
    "# if you want find last number of array use -1\n",
    "print(array2D[-1][-1])"
   ]
  },
  {
   "cell_type": "code",
   "execution_count": 11,
   "id": "72e3ab47",
   "metadata": {},
   "outputs": [
    {
     "name": "stdout",
     "output_type": "stream",
     "text": [
      "5\n"
     ]
    }
   ],
   "source": [
    "print(array2D[-1][-1])"
   ]
  },
  {
   "cell_type": "code",
   "execution_count": 22,
   "id": "7d3f6c9b",
   "metadata": {},
   "outputs": [
    {
     "name": "stdout",
     "output_type": "stream",
     "text": [
      "[2 3 4 5 6]\n",
      "[1 2 3 4 5 6]\n",
      "[4 5 6 7 8 9]\n"
     ]
    }
   ],
   "source": [
    "array = np.array([1, 2, 3, 4, 5, 6, 7, 8, 9])\n",
    "print(array[1:6]) \n",
    "print(array[:6])\n",
    "print(array[3:])\n"
   ]
  },
  {
   "cell_type": "code",
   "execution_count": 21,
   "id": "27262353",
   "metadata": {},
   "outputs": [
    {
     "name": "stdout",
     "output_type": "stream",
     "text": [
      "[1 2 3 4 5 6 7 8 9]\n",
      "[1 2 3 4 5 6 7 8 9]\n"
     ]
    }
   ],
   "source": [
    "# copy array\n",
    "array3 = array.copy()\n",
    "print(array)\n",
    "print(array3)\n"
   ]
  },
  {
   "cell_type": "code",
   "execution_count": 24,
   "id": "6c05cb64",
   "metadata": {},
   "outputs": [
    {
     "name": "stdout",
     "output_type": "stream",
     "text": [
      "[1 2 3 4 5 6]\n",
      "[1 2 3 4 5 6]\n"
     ]
    }
   ],
   "source": [
    "# Array View\n",
    "arrayv = np.array([1, 2, 3, 4, 5, 6])\n",
    "arrayv2 = arrayv.view()\n",
    "print(arrayv)\n",
    "print(arrayv2)"
   ]
  },
  {
   "cell_type": "code",
   "execution_count": 26,
   "id": "d57f415c",
   "metadata": {},
   "outputs": [
    {
     "name": "stdout",
     "output_type": "stream",
     "text": [
      "(array([ 2, 10], dtype=int64),)\n"
     ]
    }
   ],
   "source": [
    "# search system \n",
    "arrays = np.array([1, 2, 3, 4, 5, 6, 7, 8, 9, 9, 3,1])\n",
    "search = np.where(arrays == 3)\n",
    "search2 = np.where(arrays % 2 == 0)\n",
    "print(search)\n",
    "print(search2)\n",
    "\n"
   ]
  },
  {
   "cell_type": "code",
   "execution_count": null,
   "id": "a409d55e",
   "metadata": {},
   "outputs": [],
   "source": []
  }
 ],
 "metadata": {
  "kernelspec": {
   "display_name": "Python 3",
   "language": "python",
   "name": "python3"
  },
  "language_info": {
   "codemirror_mode": {
    "name": "ipython",
    "version": 3
   },
   "file_extension": ".py",
   "mimetype": "text/x-python",
   "name": "python",
   "nbconvert_exporter": "python",
   "pygments_lexer": "ipython3",
   "version": "3.8.8"
  }
 },
 "nbformat": 4,
 "nbformat_minor": 5
}
